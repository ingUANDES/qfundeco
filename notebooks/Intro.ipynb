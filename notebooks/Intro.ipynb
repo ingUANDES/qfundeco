{
  "nbformat": 4,
  "nbformat_minor": 0,
  "metadata": {
    "colab": {
      "provenance": [],
      "include_colab_link": true
    },
    "kernelspec": {
      "name": "ir",
      "display_name": "R"
    },
    "language_info": {
      "name": "R"
    }
  },
  "cells": [
    {
      "cell_type": "markdown",
      "metadata": {
        "id": "view-in-github",
        "colab_type": "text"
      },
      "source": [
        "<a href=\"https://colab.research.google.com/github/ingUANDES/qfundeco/blob/main/notebooks/Intro.ipynb\" target=\"_parent\"><img src=\"https://colab.research.google.com/assets/colab-badge.svg\" alt=\"Open In Colab\"/></a>"
      ]
    },
    {
      "cell_type": "markdown",
      "source": [
        "El siguiente cuaderno es un complemento a [DIY Macroeconomic Model Simulation](https://macrosimulation.org/).\n",
        "\n",
        "Comenzaremos con resolver un modelo Keynesiano simple donde la producción agregada de una economía, $Y$, se descompone entre consumo $C$ e inversión $I$. De forma que $Y=C+I$. A su vez, el consumo es una función lineal del la producción, $C=c_0+c_1\\cdot Y$.\n",
        "\n",
        "Teóricamente sabemos que hay un valor del consumo que depende de $c_0$, $c_1$ e $I$. Dicho valor es el que resuelve el sistema de ecuaciones del párrafo anterior. En efecto, al reemplazar por $Y$ en la ecuación de consumo tenemos que $C=c_0+c_1\\cdot(C+I)$ desde donde obtenemos que $C^*=\\frac{c_0+c_1\\cdot I}{1-c_1}$. Reemplazando este valor de consumo en $Y$ tenemos que $Y^*=\\frac{c_0+c_1\\cdot I}{1-c_1}+I=\\frac{c_0+I}{1-c_1}$.\n",
        "\n",
        "Ejercicio. Para $(c_0,c_1,I)=(2,0.8,10)$ ¿Cuáles son los valores de consumo y producción?"
      ],
      "metadata": {
        "id": "0-vWMytUSY9T"
      }
    },
    {
      "cell_type": "code",
      "execution_count": 2,
      "metadata": {
        "colab": {
          "base_uri": "https://localhost:8080/",
          "height": 34
        },
        "id": "BpN7VDdvSNCQ",
        "outputId": "9112e199-9625-48e0-da24-2af1ac8d3397"
      },
      "outputs": [
        {
          "output_type": "display_data",
          "data": {
            "text/html": [
              "54"
            ],
            "text/markdown": "54",
            "text/latex": "54",
            "text/plain": [
              "[1] 54"
            ]
          },
          "metadata": {}
        }
      ],
      "source": [
        "c_0=2\n",
        "c_1=0.8\n",
        "I=11\n",
        "Cstar=(c_0+c_1*I)/(1-c_1)\n",
        "Cstar"
      ]
    },
    {
      "cell_type": "code",
      "source": [
        "Ystar=(c_0+I)/(1-c_1)\n",
        "Ystar"
      ],
      "metadata": {
        "colab": {
          "base_uri": "https://localhost:8080/",
          "height": 34
        },
        "id": "OKAQQ6UpWxsN",
        "outputId": "c1b04ce0-c43b-4efa-8ec6-cd6fd61d31a8"
      },
      "execution_count": null,
      "outputs": [
        {
          "output_type": "display_data",
          "data": {
            "text/html": [
              "65"
            ],
            "text/markdown": "65",
            "text/latex": "65",
            "text/plain": [
              "[1] 65"
            ]
          },
          "metadata": {}
        }
      ]
    },
    {
      "cell_type": "markdown",
      "source": [
        "Otra forma de resolver el modelo es pensar en una dinámica donde $C_t$ e $Y_t$ son los valores en el momento $t$. Si suponemos que $C_1=Y_1=1$ y que el sistema de ecuaciones anterior se traduce \"dinámicamente\" a $Y_{t+1}=C_t+I$ junto con $C_{t+1}=c_0+c_1\\cdot Y_{t+1}$."
      ],
      "metadata": {
        "id": "F-8Wzcg8W6BP"
      }
    },
    {
      "cell_type": "code",
      "source": [
        "# Largo de la proyección\n",
        "T=100\n",
        "# Inicializa los vectores para Y y C\n",
        "Y <- vector(length=T)\n",
        "C <- vector(length=T)\n",
        "# Define las condiciones iniciales\n",
        "Y[1] = 1\n",
        "C[1] = 1\n",
        "# Calcula la serie para t de 1 a 100\n",
        "for (t in 1:100) {\n",
        "  Y[t + 1] <- C[t] + I\n",
        "  C[t + 1] <- c_0 + c_1 * Y[t + 1]\n",
        "}\n",
        "\n",
        "# Puedes graficar las series para visualizarlas\n",
        "plot(Y, type = \"l\", col = \"blue\", xlab = \"t\", ylab = \"Valor\")\n",
        "lines(C, type = \"l\", col = \"red\")\n",
        "# Agrega las líneas horizontales\n",
        "abline(h = 65, col = \"blue\", lty = 3)  # Línea horizontal en 65\n",
        "abline(h = 54, col = \"red\", lty = 3)  # Línea horizontal en 54\n",
        "legend(\"bottomright\",\n",
        "       legend = expression(Y[t], C[t], Y^\"*\" == 65, C^\"*\" == 54),\n",
        "       col = c(\"blue\", \"red\", \"blue\", \"red\"),\n",
        "       lty = c(1, 1, 3, 3))"
      ],
      "metadata": {
        "colab": {
          "base_uri": "https://localhost:8080/",
          "height": 437
        },
        "id": "goiWkXWUtXyV",
        "outputId": "c39ddf89-b15a-40a4-910d-d889de5689af"
      },
      "execution_count": 7,
      "outputs": [
        {
          "output_type": "display_data",
          "data": {
            "text/plain": [
              "plot without title"
            ],
            "image/png": "[encoded data removed]"
          },
          "metadata": {
            "image/png": {
              "width": 420,
              "height": 420
            }
          }
        }
      ]
    },
    {
      "cell_type": "markdown",
      "source": [
        "Ejercicio. Evalúe el impacto de una cambio en el modelo a partir de un determinado periodo."
      ],
      "metadata": {
        "id": "UEhQT-_styj3"
      }
    }
  ]
}